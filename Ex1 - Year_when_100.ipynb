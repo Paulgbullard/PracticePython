{
 "cells": [
  {
   "cell_type": "markdown",
   "metadata": {},
   "source": [
    "## Excercise 1\n",
    "\n",
    "Create a program that asks the user to enter their name and their age. \n",
    "Print out a message addressed to them that tells them the year that they will turn 100 years old."
   ]
  },
  {
   "cell_type": "code",
   "execution_count": null,
   "metadata": {},
   "outputs": [],
   "source": [
    "import datetime\n",
    "\n",
    "now = datetime.datetime.now()\n",
    "\n",
    "name = input(\"What is your name? : \")\n",
    "age = input(\"And what is your age? : \")\n",
    "\n",
    "#Message back to user\n",
    "print()\n",
    "print(\"Hello \"+name+\" who is \"+str(age))\n",
    "print()\n",
    "print(\"Did you know you will be 100 in the year \"+str(100-int(age)+now.year)+\" ?\")"
   ]
  },
  {
   "cell_type": "markdown",
   "metadata": {},
   "source": [
    "## Additional Excercise\n",
    "\n",
    "Add on to the previous program by asking the user for another number and printing out that many copies of the previous message. \n",
    "\n",
    "Print out that many copies of the previous message on separate lines. "
   ]
  },
  {
   "cell_type": "code",
   "execution_count": null,
   "metadata": {},
   "outputs": [],
   "source": [
    "import datetime\n",
    "\n",
    "now = datetime.datetime.now()\n",
    "\n",
    "name = input(\"What is your name? : \")\n",
    "age = input(\"And what is your age? : \")\n",
    "repetition = input(\"How many times would you like to be told when you will be 100? :\")\n",
    "\n",
    "#Message back to user\n",
    "print()\n",
    "print(\"Hello \"+name+\" who is \"+str(age))\n",
    "print()\n",
    "output = \"Did you know you will be 100 in the year \"+str(100-int(age)+now.year)+\"?\\n\"\n",
    "print(output * int(repetition))"
   ]
  }
 ],
 "metadata": {
  "kernelspec": {
   "display_name": "Python 3",
   "language": "python",
   "name": "python3"
  },
  "language_info": {
   "codemirror_mode": {
    "name": "ipython",
    "version": 3
   },
   "file_extension": ".py",
   "mimetype": "text/x-python",
   "name": "python",
   "nbconvert_exporter": "python",
   "pygments_lexer": "ipython3",
   "version": "3.7.1"
  }
 },
 "nbformat": 4,
 "nbformat_minor": 2
}
