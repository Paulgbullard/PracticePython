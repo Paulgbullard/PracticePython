{
 "cells": [
  {
   "cell_type": "markdown",
   "metadata": {},
   "source": [
    "## Excercise 14\n",
    "\n",
    "Write a program (function!) that takes a list and returns a new list that contains all the elements of the first list minus all the duplicates."
   ]
  },
  {
   "cell_type": "code",
   "execution_count": null,
   "metadata": {},
   "outputs": [],
   "source": [
    "def dupe_remove(lst):\n",
    "    x = set(lst)\n",
    "    return x\n",
    "\n",
    "a = [\"Apple\",\"Apple\",\"Orange\",\"Apple\",\"Orange\",\"grape\"]\n",
    "dupe_remove(a)"
   ]
  },
  {
   "cell_type": "markdown",
   "metadata": {},
   "source": [
    "Write it using a loop and constructing a list."
   ]
  },
  {
   "cell_type": "code",
   "execution_count": null,
   "metadata": {},
   "outputs": [],
   "source": [
    "def loop_remove(lst):\n",
    "    newlst = []\n",
    "    for x in lst:\n",
    "        if x not in newlst:\n",
    "            newlst.append(x)\n",
    "    return newlst\n",
    "            \n",
    "z = [\"Apple\",\"Apple\",\"Orange\",\"Apple\",\"Orange\",\"grape\"] \n",
    "loop_remove(z)"
   ]
  }
 ],
 "metadata": {
  "kernelspec": {
   "display_name": "Python 3",
   "language": "python",
   "name": "python3"
  },
  "language_info": {
   "codemirror_mode": {
    "name": "ipython",
    "version": 3
   },
   "file_extension": ".py",
   "mimetype": "text/x-python",
   "name": "python",
   "nbconvert_exporter": "python",
   "pygments_lexer": "ipython3",
   "version": "3.7.1"
  }
 },
 "nbformat": 4,
 "nbformat_minor": 2
}
