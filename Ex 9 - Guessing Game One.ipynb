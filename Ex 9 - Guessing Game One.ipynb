{
 "cells": [
  {
   "cell_type": "markdown",
   "metadata": {},
   "source": [
    "## Excercise 9\n",
    "\n",
    "Generate a random number between 1 and 9 (including 1 and 9). Ask the user to guess the number, then tell them whether they guessed too low, too high, or exactly right."
   ]
  },
  {
   "cell_type": "code",
   "execution_count": null,
   "metadata": {},
   "outputs": [],
   "source": [
    "import random\n",
    "\n",
    "cpu_guess = random.randint(1,9)\n",
    "usr_guess = int(input(\"Guess a number between 1 and 9: \"))\n",
    "\n",
    "if cpu_guess == usr_guess:\n",
    "    print(\"You got it!\")\n",
    "elif cpu_guess > usr_guess:\n",
    "    print(\"Too low!\")\n",
    "else:\n",
    "    print(\"Too High!\")\n",
    "    \n",
    "print(\"The CPU guess was \"+str(cpu_guess))"
   ]
  },
  {
   "cell_type": "markdown",
   "metadata": {},
   "source": [
    "Keep the game going until the user types “exit”"
   ]
  },
  {
   "cell_type": "code",
   "execution_count": null,
   "metadata": {},
   "outputs": [],
   "source": [
    "import random\n",
    "\n",
    "cpu_guess = random.randint(1,9)\n",
    "game = True\n",
    "\n",
    "while game is True:\n",
    "\n",
    "    usr_guess = int(input(\"Guess a number between 1 and 9: \"))\n",
    "\n",
    "    if cpu_guess == usr_guess:\n",
    "        print(\"You got it!\")\n",
    "        break\n",
    "    elif cpu_guess > usr_guess:\n",
    "        print(\"Too low!\")\n",
    "    else:\n",
    "        print(\"Too High!\")\n",
    "    \n",
    "    if input(\"Play on or exit?: \") == \"exit\":\n",
    "        game = False\n",
    "\n",
    "print(\"The CPU guess was \"+str(cpu_guess))"
   ]
  },
  {
   "cell_type": "markdown",
   "metadata": {},
   "source": [
    "Keep track of how many guesses the user has taken, and when the game ends, print this out."
   ]
  },
  {
   "cell_type": "code",
   "execution_count": null,
   "metadata": {},
   "outputs": [],
   "source": [
    "import random\n",
    "\n",
    "cpu_guess = random.randint(1,9)\n",
    "game = True\n",
    "tries = 0\n",
    "guessed_numbers = []\n",
    "\n",
    "while game is True:\n",
    "\n",
    "    usr_guess = int(input(\"Guess a number between 1 and 9: \"))\n",
    "    tries += 1\n",
    "\n",
    "    if cpu_guess == usr_guess:\n",
    "        print(\"You got it!\")\n",
    "        guessed_numbers.append(usr_guess)\n",
    "        break\n",
    "    elif cpu_guess > usr_guess:\n",
    "        print(\"Too low!\")\n",
    "        guessed_numbers.append(usr_guess)\n",
    "    else:\n",
    "        print(\"Too High!\")\n",
    "        guessed_numbers.append(usr_guess)\n",
    "    \n",
    "    if input(\"Play on or exit?: \") == \"exit\":\n",
    "        game = False\n",
    "\n",
    "print(\"The CPU guess was \"+str(cpu_guess))\n",
    "print(\"You had \"+str(tries)+\" guesses!\")\n",
    "print(\"Your guesses were:\"+str(guessed_numbers))"
   ]
  }
 ],
 "metadata": {
  "kernelspec": {
   "display_name": "Python 3",
   "language": "python",
   "name": "python3"
  },
  "language_info": {
   "codemirror_mode": {
    "name": "ipython",
    "version": 3
   },
   "file_extension": ".py",
   "mimetype": "text/x-python",
   "name": "python",
   "nbconvert_exporter": "python",
   "pygments_lexer": "ipython3",
   "version": "3.7.1"
  }
 },
 "nbformat": 4,
 "nbformat_minor": 2
}
