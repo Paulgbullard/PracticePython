{
 "cells": [
  {
   "cell_type": "markdown",
   "metadata": {},
   "source": [
    "## Excercise 11\n",
    "\n",
    "Ask the user for a number and determine whether the number is prime or not. \n",
    "You can (and should!) use your answer to Exercise 4 to help you. Take this opportunity to practice using functions."
   ]
  },
  {
   "cell_type": "code",
   "execution_count": null,
   "metadata": {
    "scrolled": true
   },
   "outputs": [],
   "source": [
    "def prime_check(num):\n",
    "    a = [x for x in range(2,int(num)+1) if x != int(num)]\n",
    "    count = 0\n",
    "\n",
    "    for i in a:\n",
    "        if int(num) % i == 0:\n",
    "            count += 1\n",
    "\n",
    "    if count >= 1:\n",
    "        return \"Not Prime!\"\n",
    "    else:\n",
    "        return \"Prime!\"\n",
    "    \n",
    "num = input(\"What number shall I check for prime?: \")\n",
    "prime_check(num)"
   ]
  }
 ],
 "metadata": {
  "kernelspec": {
   "display_name": "Python 3",
   "language": "python",
   "name": "python3"
  },
  "language_info": {
   "codemirror_mode": {
    "name": "ipython",
    "version": 3
   },
   "file_extension": ".py",
   "mimetype": "text/x-python",
   "name": "python",
   "nbconvert_exporter": "python",
   "pygments_lexer": "ipython3",
   "version": "3.7.1"
  }
 },
 "nbformat": 4,
 "nbformat_minor": 2
}
