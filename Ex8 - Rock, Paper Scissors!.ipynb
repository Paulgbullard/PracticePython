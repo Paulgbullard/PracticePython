{
 "cells": [
  {
   "cell_type": "markdown",
   "metadata": {},
   "source": [
    "## Excercise 8\n",
    "\n",
    "Make a two-player Rock-Paper-Scissors game."
   ]
  },
  {
   "cell_type": "code",
   "execution_count": null,
   "metadata": {},
   "outputs": [],
   "source": [
    "while True:\n",
    "\n",
    "    a = input(\"Rock, Paper or Scissors?\")\n",
    "    b = input(\"Rock, Paper or Scissors?\")\n",
    "\n",
    "    if a == b:\n",
    "        print(\"A tie!\")\n",
    "    elif a == \"Rock\" and b == \"Scissors\":\n",
    "        print(\"Player A wins!\")\n",
    "    elif a == \"Rock\" and b == \"Paper\":\n",
    "        print(\"Player B wins!\")\n",
    "    elif a == \"Paper\" and b == \"Rock\":\n",
    "        print(\"Player A wins!\")\n",
    "    elif a == \"Paper\" and b == \"Scissors\":\n",
    "        print(\"Player B wins!\")\n",
    "    elif a == \"Scissors\" and b == \"Paper\":\n",
    "        print(\"Player A wins!\")\n",
    "    elif a == \"Scissors\" and b == \"Rock\":\n",
    "        print(\"Player B wins\")\n",
    "\n",
    "    check = input('Press yes to play again: ').lower()\n",
    "\n",
    "    if (check == 'yes'):\n",
    "        continue\n",
    "    else:\n",
    "        break"
   ]
  }
 ],
 "metadata": {
  "kernelspec": {
   "display_name": "Python 3",
   "language": "python",
   "name": "python3"
  },
  "language_info": {
   "codemirror_mode": {
    "name": "ipython",
    "version": 3
   },
   "file_extension": ".py",
   "mimetype": "text/x-python",
   "name": "python",
   "nbconvert_exporter": "python",
   "pygments_lexer": "ipython3",
   "version": "3.7.1"
  }
 },
 "nbformat": 4,
 "nbformat_minor": 2
}
