{
 "cells": [
  {
   "cell_type": "markdown",
   "metadata": {},
   "source": [
    "## Excercise 2\n",
    "\n",
    "Ask the user for a number. \n",
    "Depending on whether the number is even or odd, print out an appropriate message to the user. "
   ]
  },
  {
   "cell_type": "code",
   "execution_count": null,
   "metadata": {},
   "outputs": [],
   "source": [
    "chosen_number = int(input(\"Type a number: \"))\n",
    "if chosen_number % 2 == 0:\n",
    "    print(\"That's an even number!\")\n",
    "else:\n",
    "    print(\"That's odd!\")"
   ]
  },
  {
   "cell_type": "markdown",
   "metadata": {},
   "source": [
    "\n",
    "\n",
    "If the number is a multiple of 4, print out a different message."
   ]
  },
  {
   "cell_type": "code",
   "execution_count": null,
   "metadata": {},
   "outputs": [],
   "source": [
    "chosen_number = int(input(\"Type a number: \"))\n",
    "if chosen_number % 4 == 0:\n",
    "    print(\"That's divisible by 4!\")\n",
    "elif chosen_number % 2 == 0:\n",
    "    print(\"That's an even number!\")\n",
    "else:\n",
    "    print(\"That's odd!\")"
   ]
  },
  {
   "cell_type": "markdown",
   "metadata": {},
   "source": [
    "Ask the user for two numbers: one number to check (call it num) and one number to divide by (check). \n",
    "\n",
    "If check divides evenly into num, tell that to the user. If not, print a different appropriate message."
   ]
  },
  {
   "cell_type": "code",
   "execution_count": null,
   "metadata": {},
   "outputs": [],
   "source": [
    "num = int(input(\"Enter a numerator: \"))\n",
    "check = int(input(\"Enter a divisor: \"))\n",
    "\n",
    "if num % 4 == 0:\n",
    "    print(\"That's divisible by 4!\")\n",
    "elif num % 2 == 0:\n",
    "    print(\"That's an even number!\")\n",
    "else:\n",
    "    print(\"That's odd!\")\n",
    "    \n",
    "if num % check == 0:\n",
    "    print(\"They divide!\")\n",
    "else:\n",
    "    print(\"They don't divide!\")"
   ]
  }
 ],
 "metadata": {
  "kernelspec": {
   "display_name": "Python 3",
   "language": "python",
   "name": "python3"
  },
  "language_info": {
   "codemirror_mode": {
    "name": "ipython",
    "version": 3
   },
   "file_extension": ".py",
   "mimetype": "text/x-python",
   "name": "python",
   "nbconvert_exporter": "python",
   "pygments_lexer": "ipython3",
   "version": "3.7.1"
  }
 },
 "nbformat": 4,
 "nbformat_minor": 2
}
